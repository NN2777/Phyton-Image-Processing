{
  "cells": [
    {
      "cell_type": "markdown",
      "metadata": {
        "id": "view-in-github",
        "colab_type": "text"
      },
      "source": [
        "<a href=\"https://colab.research.google.com/github/NN2777/Phyton-Image-Processing/blob/main/BIG_DT.ipynb\" target=\"_parent\"><img src=\"https://colab.research.google.com/assets/colab-badge.svg\" alt=\"Open In Colab\"/></a>"
      ]
    },
    {
      "cell_type": "code",
      "source": [
        "from google.colab import drive\n",
        "drive.mount('/content/drive')"
      ],
      "metadata": {
        "id": "zfe9YdzGHFvE",
        "outputId": "ba63350f-7926-4c66-b270-9f88c33b4d27",
        "colab": {
          "base_uri": "https://localhost:8080/"
        }
      },
      "execution_count": 1,
      "outputs": [
        {
          "output_type": "stream",
          "name": "stdout",
          "text": [
            "Mounted at /content/drive\n"
          ]
        }
      ]
    },
    {
      "cell_type": "code",
      "source": [
        "!apt-get install openjdk-8-jdk-headless -qq > /dev/null"
      ],
      "metadata": {
        "id": "dAzs8aH9HU83"
      },
      "execution_count": 2,
      "outputs": []
    },
    {
      "cell_type": "code",
      "source": [
        "!wget -q https://dlcdn.apache.org/spark/spark-3.2.1/spark-3.2.1-bin-hadoop3.2.tgz\n",
        "!tar xf spark-3.2.1-bin-hadoop3.2.tgz"
      ],
      "metadata": {
        "id": "0n-DFNleHjVh"
      },
      "execution_count": 3,
      "outputs": []
    },
    {
      "cell_type": "code",
      "source": [
        "import os\n",
        "os.environ[\"JAVA_HOME\"] = \"/usr/lib/jvm/java-8-openjdk-amd64\"\n",
        "os.environ[\"SPARK_HOME\"] = \"/content/spark-3.2.1-bin-hadoop3.2\""
      ],
      "metadata": {
        "id": "1RDJ_OU1Iqyh"
      },
      "execution_count": 4,
      "outputs": []
    },
    {
      "cell_type": "code",
      "source": [
        "!pip install -q findspark"
      ],
      "metadata": {
        "id": "MeO19H7VhnDb"
      },
      "execution_count": 5,
      "outputs": []
    },
    {
      "cell_type": "code",
      "source": [
        "import findspark\n",
        "findspark.init()"
      ],
      "metadata": {
        "id": "X62mjxYEhyhn"
      },
      "execution_count": 6,
      "outputs": []
    },
    {
      "cell_type": "code",
      "source": [
        "from pyspark.sql import SparkSession\n",
        "spark = SparkSession.builder\\\n",
        " .master(\"local\")\\\n",
        " .appName(\"Colab\")\\\n",
        " .config('spark.ui.port', '4050')\\\n",
        " .getOrCreate()"
      ],
      "metadata": {
        "id": "lkgs7nmoh2iH"
      },
      "execution_count": 7,
      "outputs": []
    },
    {
      "cell_type": "code",
      "source": [
        "df = spark.read.csv(\"/content/drive/MyDrive/koceng/CAvideos.csv\")\n",
        "df.printSchema()"
      ],
      "metadata": {
        "id": "XT59IHF4h8Od",
        "outputId": "d80615d1-3f90-41f6-e756-72e4aa791a95",
        "colab": {
          "base_uri": "https://localhost:8080/"
        }
      },
      "execution_count": 8,
      "outputs": [
        {
          "output_type": "stream",
          "name": "stdout",
          "text": [
            "root\n",
            " |-- _c0: string (nullable = true)\n",
            " |-- _c1: string (nullable = true)\n",
            " |-- _c2: string (nullable = true)\n",
            " |-- _c3: string (nullable = true)\n",
            " |-- _c4: string (nullable = true)\n",
            " |-- _c5: string (nullable = true)\n",
            " |-- _c6: string (nullable = true)\n",
            " |-- _c7: string (nullable = true)\n",
            " |-- _c8: string (nullable = true)\n",
            " |-- _c9: string (nullable = true)\n",
            " |-- _c10: string (nullable = true)\n",
            " |-- _c11: string (nullable = true)\n",
            " |-- _c12: string (nullable = true)\n",
            " |-- _c13: string (nullable = true)\n",
            " |-- _c14: string (nullable = true)\n",
            " |-- _c15: string (nullable = true)\n",
            "\n"
          ]
        }
      ]
    },
    {
      "cell_type": "code",
      "source": [
        "from pyspark.sql.types import StructType\n",
        "from pyspark.sql.types import StructField\n",
        "from pyspark.sql.types import StringType\n",
        "from pyspark.sql.types import IntegerType\n",
        "from pyspark.sql.types import BooleanType\n",
        "\n",
        "ytSchema = StructType([\n",
        "    StructField(\"video_id\", StringType(), True),\n",
        "    StructField(\"trending_data\", StringType(), True),\n",
        "    StructField(\"title\", StringType(), True),\n",
        "    StructField(\"channel_title\", StringType(), True),\n",
        "    StructField(\"category_id\", StringType(), True),\n",
        "    StructField(\"publish_time\", StringType(), True),\n",
        "    StructField(\"tags\", StringType(), True),\n",
        "    StructField(\"views\", IntegerType(), True),\n",
        "    StructField(\"likes\", IntegerType(), True),\n",
        "    StructField(\"dislikes\", IntegerType(), True),\n",
        "    StructField(\"comment_count\", IntegerType(), True),\n",
        "    StructField(\"thumbnail_link\", StringType(), True),\n",
        "    StructField(\"comments_disabled\", BooleanType(), True),\n",
        "    StructField(\"ratings_disabled\", BooleanType(), True),\n",
        "    StructField(\"video_error_or_removed\", BooleanType(), True),\n",
        "    StructField(\"description\", StringType(), True),\n",
        "    \n",
        "])"
      ],
      "metadata": {
        "id": "8gvWE00jlEp2"
      },
      "execution_count": 15,
      "outputs": []
    },
    {
      "cell_type": "code",
      "source": [
        "df2 = spark.read.option(\"header\", True).csv(\"/content/drive/MyDrive/koceng/CAvideos.csv\", schema=ytSchema)"
      ],
      "metadata": {
        "id": "ZswHLl1dm6oA"
      },
      "execution_count": 16,
      "outputs": []
    },
    {
      "cell_type": "code",
      "source": [
        "df2.printSchema()"
      ],
      "metadata": {
        "id": "U5puIHcRnSsA",
        "outputId": "fd55278f-af3f-4e35-c7ae-9787dfdd1ae7",
        "colab": {
          "base_uri": "https://localhost:8080/"
        }
      },
      "execution_count": 17,
      "outputs": [
        {
          "output_type": "stream",
          "name": "stdout",
          "text": [
            "root\n",
            " |-- video_id: string (nullable = true)\n",
            " |-- trending_data: string (nullable = true)\n",
            " |-- title: string (nullable = true)\n",
            " |-- channel_title: string (nullable = true)\n",
            " |-- category_id: string (nullable = true)\n",
            " |-- publish_time: string (nullable = true)\n",
            " |-- tags: string (nullable = true)\n",
            " |-- views: integer (nullable = true)\n",
            " |-- likes: integer (nullable = true)\n",
            " |-- dislikes: integer (nullable = true)\n",
            " |-- comment_count: integer (nullable = true)\n",
            " |-- thumbnail_link: string (nullable = true)\n",
            " |-- comments_disabled: boolean (nullable = true)\n",
            " |-- ratings_disabled: boolean (nullable = true)\n",
            " |-- video_error_or_removed: boolean (nullable = true)\n",
            " |-- description: string (nullable = true)\n",
            "\n"
          ]
        }
      ]
    },
    {
      "cell_type": "code",
      "source": [
        "df.show()"
      ],
      "metadata": {
        "id": "OvZoF3_ZpjGn",
        "outputId": "2a8e6557-72c7-47fc-e0ae-83eac30503a3",
        "colab": {
          "base_uri": "https://localhost:8080/"
        }
      },
      "execution_count": 18,
      "outputs": [
        {
          "output_type": "stream",
          "name": "stdout",
          "text": [
            "+-----------+-------------+----------------------+--------------------+-----------+--------------------+------------------------------+--------+-------+--------+-------------+--------------------+-----------------+----------------+--------------------+--------------------+\n",
            "|        _c0|          _c1|                   _c2|                 _c3|        _c4|                 _c5|                           _c6|     _c7|    _c8|     _c9|         _c10|                _c11|             _c12|            _c13|                _c14|                _c15|\n",
            "+-----------+-------------+----------------------+--------------------+-----------+--------------------+------------------------------+--------+-------+--------+-------------+--------------------+-----------------+----------------+--------------------+--------------------+\n",
            "|   video_id|trending_date|                 title|       channel_title|category_id|        publish_time|                          tags|   views|  likes|dislikes|comment_count|      thumbnail_link|comments_disabled|ratings_disabled|video_error_or_re...|         description|\n",
            "|n1WpP7iowLc|     17.14.11|  Eminem - Walk On ...|          EminemVEVO|         10|2017-11-10T17:00:...|          \"Eminem\"|\"Walk\"|\"...|17158579| 787425|   43420|       125882|https://i.ytimg.c...|            False|           False|               False|Eminem's new trac...|\n",
            "|0dBIkQ4Mz1M|     17.14.11|  PLUSH - Bad Unbox...|           iDubbbzTV|         23|2017-11-13T17:00:...|          \"plush\"|\"bad unbo...| 1014651| 127794|    1688|        13030|https://i.ytimg.c...|            False|           False|               False|STill got a lot o...|\n",
            "|5qpjK5DgCt4|     17.14.11|  Racist Superman |...|        Rudy Mancuso|         23|2017-11-12T19:05:...|          \"racist superman\"...| 3191434| 146035|    5339|         8181|https://i.ytimg.c...|            False|           False|               False|WATCH MY PREVIOUS...|\n",
            "|d380meD0W0M|     17.14.11|  I Dare You: GOING...|            nigahiga|         24|2017-11-12T18:01:...|          \"ryan\"|\"higa\"|\"hi...| 2095828| 132239|    1989|        17518|https://i.ytimg.c...|            False|           False|               False|I know it's been ...|\n",
            "|2Vv-BfVoq4g|     17.14.11|  Ed Sheeran - Perf...|          Ed Sheeran|         10|2017-11-09T11:04:...|          \"edsheeran\"|\"ed s...|33523622|1634130|   21082|        85067|https://i.ytimg.c...|            False|           False|               False|🎧: https://ad.gt...|\n",
            "|0yIWz1XEeyc|     17.14.11|  Jake Paul Says Al...|          DramaAlert|         25|2017-11-13T07:37:...|          \"#DramaAlert\"|\"Dr...| 1309699| 103755|    4613|        12143|https://i.ytimg.c...|            False|           False|               False|► Follow for News...|\n",
            "|_uM5kFfkhB8|     17.14.11|  Vanoss Superhero ...|        VanossGaming|         23|2017-11-12T23:52:...|          \"Funny Moments\"|\"...| 2987945| 187464|    9850|        26629|https://i.ytimg.c...|            False|           False|               False|Vanoss Merch Shop...|\n",
            "|2kyS6SvSYSE|     17.14.11|  WE WANT TO TALK A...|        CaseyNeistat|         22|2017-11-13T17:13:...|               SHANtell martin|  748374|  57534|    2967|        15959|https://i.ytimg.c...|            False|           False|               False|SHANTELL'S CHANNE...|\n",
            "|JzCsM1vtn78|     17.14.11|  THE LOGANG MADE H...|    Logan Paul Vlogs|         24|2017-11-12T20:19:...|          \"logan paul vlog\"...| 4477587| 292837|    4123|        36391|https://i.ytimg.c...|            False|           False|               False|Join the movement...|\n",
            "|43sm-QwLcx4|     17.14.11|  Finally Sheldon i...|         Sheikh Musa|         22|2017-11-10T14:10:...|          \"God\"|\"Sheldon Co...|  505161|   4135|     976|         1484|https://i.ytimg.c...|            False|           False|               False|Sheldon is roasti...|\n",
            "|H1KBHFXm2Bg|     17.14.11|  21 Savage - Bank ...|           21 Savage|         10|2017-11-10T19:00:...|          \"21 savage\"|\"bank...| 5068229| 263596|    8585|        28976|https://i.ytimg.c...|            False|           False|               False|Watch the officia...|\n",
            "|U3xLOo-CNwo|     17.14.11|  12 Weird Ways To ...|         Troom Troom|         26|2017-11-12T15:00:...|          \"sneak food\"|\"how...| 3153224|  28451|    2285|         3312|https://i.ytimg.c...|            False|           False|               False|Subscribe Here: h...|\n",
            "|FyZMnhUtLfE|     17.14.11|猎场 | Game Of Hunt...|            大劇獨播|          1|2017-11-12T16:00:...|\"電視劇\"|\"大陸電視劇\"|\"猎场...|  158815|    218|      30|          186|https://i.ytimg.c...|            False|           False|               False|Thanks for watchi...|\n",
            "|7MxiQ4v0EnE|     17.14.11|  Daang ( Full Vide...|       Speed Records|         10|2017-11-11T16:41:...|          \"punjabi songs\"|\"...| 5718766| 127477|    7134|         8063|https://i.ytimg.c...|            False|           False|               False|Song - Daang\\nSin...|\n",
            "|LUzsOyWp9lw|     17.14.11|  YOUTUBERS REACT T...|                 FBE|         24|2017-11-12T22:00:...|          \"twitter\"|\"top 10...|  960747|  31810|     668|         5335|https://i.ytimg.c...|            False|           False|               False|CLICK TO SUBSCRIB...|\n",
            "|AS9-ITLhQxo|     17.14.11|  I Hired An MI6 Sp...|        BuzzFeedBlue|         22|2017-11-11T16:00:...|          \"buzzfeed\"|\"buzzf...| 1531218|  53961|    1697|         4277|https://i.ytimg.c...|            False|           False|               False|In the Outsmarted...|\n",
            "|gifPYwArCVQ|     17.14.11|  Fake Pet Smart Em...|                NELK|         23|2017-11-13T01:30:...|          \"prank\"|\"pranks\"|...|  557883|  44558|     621|         9619|https://i.ytimg.c...|            False|           False|               False|3 Days left to co...|\n",
            "|8NHA23f7LvU|     17.14.11|  Jason Momoa Wows ...|The Graham Norton...|         24|2017-11-10T19:06:...|          \"Graham Norton\"|\"...| 1496225|  16116|     236|          605|https://i.ytimg.c...|            False|           False|               False|I think Sarah Mil...|\n",
            "|fy-CuCzaPp8|     17.14.11|  Rooster Teeth Ani...|       Rooster Teeth|          1|2017-11-13T14:00:...|          \"Rooster Teeth\"|\"...|  308568|  19541|      70|          495|https://i.ytimg.c...|            False|           False|               False|Miles gets stuck ...|\n",
            "+-----------+-------------+----------------------+--------------------+-----------+--------------------+------------------------------+--------+-------+--------+-------------+--------------------+-----------------+----------------+--------------------+--------------------+\n",
            "only showing top 20 rows\n",
            "\n"
          ]
        }
      ]
    },
    {
      "cell_type": "code",
      "source": [
        "df2_sorted = df2.orderBy(['views'], ascending = [False])\n",
        "df2_sorted.select(\"title\", \"channel_title\", \"views\").show(20, False)"
      ],
      "metadata": {
        "id": "oK-gf7BXzBli",
        "outputId": "06343efa-9115-4f05-e3ee-e63a64056f82",
        "colab": {
          "base_uri": "https://localhost:8080/"
        }
      },
      "execution_count": 19,
      "outputs": [
        {
          "output_type": "stream",
          "name": "stdout",
          "text": [
            "+--------------------------------------------------------------------------+--------------------+---------+\n",
            "|title                                                                     |channel_title       |views    |\n",
            "+--------------------------------------------------------------------------+--------------------+---------+\n",
            "|YouTube Rewind: The Shape of 2017 | #YouTubeRewind                        |YouTube Spotlight   |137843120|\n",
            "|YouTube Rewind: The Shape of 2017 | #YouTubeRewind                        |YouTube Spotlight   |125431369|\n",
            "|YouTube Rewind: The Shape of 2017 | #YouTubeRewind                        |YouTube Spotlight   |113876217|\n",
            "|YouTube Rewind: The Shape of 2017 | #YouTubeRewind                        |YouTube Spotlight   |100911567|\n",
            "|Childish Gambino - This Is America (Official Video)                       |ChildishGambinoVEVO |98938809 |\n",
            "|Marvel Studios' Avengers: Infinity War Official Trailer                   |Marvel Entertainment|89930713 |\n",
            "|Marvel Studios' Avengers: Infinity War Official Trailer                   |Marvel Entertainment|87450245 |\n",
            "|Childish Gambino - This Is America (Official Video)                       |ChildishGambinoVEVO |85092067 |\n",
            "|Marvel Studios' Avengers: Infinity War Official Trailer                   |Marvel Entertainment|84281319 |\n",
            "|BTS (방탄소년단) 'FAKE LOVE' Official MV                                  |ibighit             |80738011 |\n",
            "|Marvel Studios' Avengers: Infinity War Official Trailer                   |Marvel Entertainment|80360459 |\n",
            "|YouTube Rewind: The Shape of 2017 | #YouTubeRewind                        |YouTube Spotlight   |75969469 |\n",
            "|Marvel Studios' Avengers: Infinity War Official Trailer                   |Marvel Entertainment|74789251 |\n",
            "|BTS (방탄소년단) 'FAKE LOVE' Official MV                                  |ibighit             |73463137 |\n",
            "|Childish Gambino - This Is America (Official Video)                       |ChildishGambinoVEVO |73432600 |\n",
            "|Marvel Studios' Avengers: Infinity War Official Trailer                   |Marvel Entertainment|66637636 |\n",
            "|BTS (방탄소년단) 'FAKE LOVE' Official MV                                  |ibighit             |65396157 |\n",
            "|BTS (방탄소년단) 'FAKE LOVE' Official MV                                  |ibighit             |62796390 |\n",
            "|Nicky Jam x J. Balvin - X (EQUIS) | Video Oficial | Prod. Afro Bros & Jeon|NickyJamTV          |61163906 |\n",
            "|Childish Gambino - This Is America (Official Video)                       |ChildishGambinoVEVO |60776509 |\n",
            "+--------------------------------------------------------------------------+--------------------+---------+\n",
            "only showing top 20 rows\n",
            "\n"
          ]
        }
      ]
    },
    {
      "cell_type": "code",
      "source": [
        "import pandas as pd \n",
        "dataframeObj.write.csv(\"ituan\")"
      ],
      "metadata": {
        "id": "iaInSJ0p5aLo",
        "outputId": "c52c9568-a0dd-4f5d-d8cd-2ce81de7060b",
        "colab": {
          "base_uri": "https://localhost:8080/",
          "height": 182
        }
      },
      "execution_count": 26,
      "outputs": [
        {
          "output_type": "error",
          "ename": "NameError",
          "evalue": "ignored",
          "traceback": [
            "\u001b[0;31m---------------------------------------------------------------------------\u001b[0m",
            "\u001b[0;31mNameError\u001b[0m                                 Traceback (most recent call last)",
            "\u001b[0;32m<ipython-input-26-6863e2c4b7ba>\u001b[0m in \u001b[0;36m<module>\u001b[0;34m()\u001b[0m\n\u001b[1;32m      1\u001b[0m \u001b[0;32mimport\u001b[0m \u001b[0mpandas\u001b[0m \u001b[0;32mas\u001b[0m \u001b[0mpd\u001b[0m\u001b[0;34m\u001b[0m\u001b[0;34m\u001b[0m\u001b[0m\n\u001b[0;32m----> 2\u001b[0;31m \u001b[0mdataframeObj\u001b[0m\u001b[0;34m.\u001b[0m\u001b[0mwrite\u001b[0m\u001b[0;34m.\u001b[0m\u001b[0mcsv\u001b[0m\u001b[0;34m(\u001b[0m\u001b[0;34m\"ituan\"\u001b[0m\u001b[0;34m)\u001b[0m\u001b[0;34m\u001b[0m\u001b[0;34m\u001b[0m\u001b[0m\n\u001b[0m",
            "\u001b[0;31mNameError\u001b[0m: name 'dataframeObj' is not defined"
          ]
        }
      ]
    }
  ],
  "metadata": {
    "colab": {
      "collapsed_sections": [],
      "name": "Selamat Datang di Colaboratory",
      "provenance": [],
      "include_colab_link": true
    },
    "kernelspec": {
      "display_name": "Python 3",
      "name": "python3"
    }
  },
  "nbformat": 4,
  "nbformat_minor": 0
}